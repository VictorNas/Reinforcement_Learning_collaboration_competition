{
 "cells": [
  {
   "cell_type": "markdown",
   "id": "85845d0f",
   "metadata": {},
   "source": [
    "### 1. Import Packages"
   ]
  },
  {
   "cell_type": "code",
   "execution_count": 1,
   "id": "d7341209",
   "metadata": {},
   "outputs": [],
   "source": [
    "from unityagents import UnityEnvironment\n",
    "import numpy as np\n",
    "from maddpg_agent import Agent"
   ]
  },
  {
   "cell_type": "markdown",
   "id": "1c987bf9",
   "metadata": {},
   "source": [
    "### 2. Examine the State and Action Spaces"
   ]
  },
  {
   "cell_type": "code",
   "execution_count": 2,
   "id": "197312c5",
   "metadata": {},
   "outputs": [
    {
     "name": "stderr",
     "output_type": "stream",
     "text": [
      "INFO:unityagents:\n",
      "'Academy' started successfully!\n",
      "Unity Academy name: Academy\n",
      "        Number of Brains: 1\n",
      "        Number of External Brains : 1\n",
      "        Lesson number : 0\n",
      "        Reset Parameters :\n",
      "\t\t\n",
      "Unity brain name: TennisBrain\n",
      "        Number of Visual Observations (per agent): 0\n",
      "        Vector Observation space type: continuous\n",
      "        Vector Observation space size (per agent): 8\n",
      "        Number of stacked Vector Observation: 3\n",
      "        Vector Action space type: continuous\n",
      "        Vector Action space size (per agent): 2\n",
      "        Vector Action descriptions: , \n"
     ]
    },
    {
     "name": "stdout",
     "output_type": "stream",
     "text": [
      "Number of agents: 2\n",
      "Size of each action: 2\n",
      "There are 2 agents. Each observes a state with length: 24\n",
      "The state for the first agent looks like: [ 0.          0.          0.          0.          0.          0.\n",
      "  0.          0.          0.          0.          0.          0.\n",
      "  0.          0.          0.          0.         -6.65278625 -1.5\n",
      " -0.          0.          6.83172083  6.         -0.          0.        ]\n"
     ]
    }
   ],
   "source": [
    "env = UnityEnvironment(file_name=\"Tennis_Linux/Tennis.x86_64\")\n",
    "# get the default brain\n",
    "brain_name = env.brain_names[0]\n",
    "brain = env.brains[brain_name]\n",
    "# reset the environment\n",
    "env_info = env.reset(train_mode=True)[brain_name]\n",
    "\n",
    "\n",
    "# number of agents\n",
    "num_agents = len(env_info.agents)\n",
    "print('Number of agents:', num_agents)\n",
    "\n",
    "# size of each action\n",
    "action_size = brain.vector_action_space_size\n",
    "print('Size of each action:', action_size)\n",
    "\n",
    "# examine the state space \n",
    "states = env_info.vector_observations\n",
    "state_size = states.shape[1]\n",
    "print('There are {} agents. Each observes a state with length: {}'.format(states.shape[0], state_size))\n",
    "print('The state for the first agent looks like:', states[0])"
   ]
  },
  {
   "cell_type": "markdown",
   "id": "c23f1fb2",
   "metadata": {},
   "source": [
    "### 3. Create an Instance of the Agent and define help functions to plot the rewards"
   ]
  },
  {
   "cell_type": "code",
   "execution_count": 3,
   "id": "cdf0296b",
   "metadata": {},
   "outputs": [],
   "source": [
    "seed = 2021\n",
    "## init the agent\n",
    "num_agents = len(env_info.agents)\n",
    "agents = Agent(state_size, action_size, seed,num_agents)"
   ]
  },
  {
   "cell_type": "markdown",
   "id": "f095b500",
   "metadata": {},
   "source": [
    "#### Help functions for plot"
   ]
  },
  {
   "cell_type": "code",
   "execution_count": 4,
   "id": "f5e39e9e",
   "metadata": {},
   "outputs": [],
   "source": [
    "def plot_score_graph(scores_list, avg_scores):\n",
    "    fig = plt.figure()\n",
    "    ax = fig.add_subplot(111)\n",
    "    plt.plot(np.arange(len(scores_list)), scores_list, label = \"scores\")\n",
    "    plt.plot(np.arange(len(avg_scores)), avg_scores, label = \"100 moving average\")\n",
    "    plt.ylabel('Score')\n",
    "    plt.xlabel('Episode #')\n",
    "    ax.hlines(y=.5, xmin=0, xmax=len(scores_list), linewidth=2, color='r')\n",
    "    plt.legend()\n",
    "    plt.savefig('scores.png')"
   ]
  },
  {
   "cell_type": "markdown",
   "id": "9897b14e",
   "metadata": {},
   "source": [
    "### 4. Training the Agent"
   ]
  },
  {
   "cell_type": "code",
   "execution_count": null,
   "id": "6dc42d5c",
   "metadata": {
    "scrolled": true
   },
   "outputs": [],
   "source": [
    "from collections import namedtuple, deque \n",
    "from IPython.display import clear_output\n",
    "import matplotlib.pyplot as plt\n",
    "import torch\n",
    "scores_list = []                    # list containing scores from each episode\n",
    "avg_scores = []\n",
    "scores_window = deque(maxlen=100)  # last 100 scores\n",
    "max_avg_score = 0\n",
    "\n",
    "eps = 1.0\n",
    "eps_min = 0.01\n",
    "eps_decay = 0.95\n",
    "np.random.seed(seed)\n",
    "for i_episode in range(1, 5000+1):\n",
    "    env_info = env.reset(train_mode=True)[brain_name]\n",
    "    states = env_info.vector_observations                  # get the current state (for each agent)\n",
    "    scores = np.zeros(num_agents)                          # initialize the score (for each agent)\n",
    "    agents.reset()\n",
    "    while True:\n",
    "        ## Deciding if will add noise or not\n",
    "        if np.random.uniform() < eps: \n",
    "            actions = agents.act(states, add_noise = True) # select an action (for each agent)\n",
    "        else:\n",
    "            actions = agents.act(states, add_noise = False)\n",
    "        env_info = env.step(actions)[brain_name]           # send all actions to tne environment\n",
    "        next_states = env_info.vector_observations         # get next state (for each agent)\n",
    "        rewards = env_info.rewards                         # get reward (for each agent)\n",
    "        dones = env_info.local_done                        # see if episode finished\n",
    "        scores += rewards                                  # update the score (for each agent)\n",
    "        \n",
    "        agents.step(states, \n",
    "                    actions, \n",
    "                    np.expand_dims(np.asarray(rewards), axis=1),\n",
    "                    next_states, \n",
    "                    np.expand_dims(np.asarray(dones), axis=1)) # agent takes a step\n",
    "        \n",
    "        states = next_states                               # roll over states to next time step\n",
    "        if np.any(dones):                                  # exit loop if episode finished\n",
    "            break\n",
    "    \n",
    "    eps = eps * eps_decay\n",
    "    eps = max(eps, eps_min)\n",
    "        \n",
    "    scores_window.append(np.max(scores))       # save most recent score(the max from both) in deque list\n",
    "    scores_list.append(np.max(scores))         # save most recent score\n",
    "    avg_scores.append(np.mean(scores_window))\n",
    "        \n",
    "    \n",
    "    clear_output(wait=True)\n",
    "    #print(count)\n",
    "    print('\\rEpisode {}\\t Episode Score:{:.2f} \\t100 Average Score: {}'.format(i_episode,np.max(scores),\n",
    "                                                                      np.mean(scores_window)),end=\"\")\n",
    "    if np.max(scores)>= 0.5:\n",
    "        with open('message.txt','a') as file:\n",
    "            file.write('Solved in {} episodes\\n'.format(i_episode))\n",
    "    if i_episode % 20 == 0:\n",
    "        plot_score_graph(scores_list,avg_scores)\n",
    "    \n",
    "    if i_episode % 100 == 0:\n",
    "        print('\\rEpisode {}\\tAverage Score: {:.2f}'.format(i_episode, np.mean(scores_window)))\n",
    "    \n",
    "    # keep track of the max 100 avg score\n",
    "    if np.mean(scores_window) > max_avg_score:\n",
    "        max_avg_score = np.mean(scores_window)\n",
    "        torch.save(agents.actor_local1.state_dict(), 'checkpoint_actor1.pth')\n",
    "        torch.save(agents.critic_local1.state_dict(), 'checkpoint_critic1.pth')\n",
    "        torch.save(agents.actor_local2.state_dict(), 'checkpoint_actor2.pth')\n",
    "        torch.save(agents.critic_local2.state_dict(), 'checkpoint_critic2.pth')\n",
    "    print('\\nMax Avg Score {}'.format(max_avg_score))    \n",
    "    \n"
   ]
  },
  {
   "cell_type": "markdown",
   "id": "a85c73ff",
   "metadata": {},
   "source": [
    "#### Watching the Smart Agent"
   ]
  },
  {
   "cell_type": "code",
   "execution_count": 5,
   "id": "674845e6",
   "metadata": {},
   "outputs": [],
   "source": [
    "from collections import namedtuple, deque \n",
    "from IPython.display import clear_output\n",
    "import matplotlib.pyplot as plt\n",
    "import torch"
   ]
  },
  {
   "cell_type": "code",
   "execution_count": 6,
   "id": "ca88a79c",
   "metadata": {},
   "outputs": [
    {
     "data": {
      "text/plain": [
       "<All keys matched successfully>"
      ]
     },
     "execution_count": 6,
     "metadata": {},
     "output_type": "execute_result"
    }
   ],
   "source": [
    "agents.actor_local1.load_state_dict(torch.load('checkpoint_actor2.pth'))\n",
    "agents.critic_local1.load_state_dict(torch.load('checkpoint_critic2.pth'))\n",
    "agents.actor_local2.load_state_dict(torch.load('checkpoint_actor1.pth'))\n",
    "agents.critic_local2.load_state_dict(torch.load('checkpoint_critic2.pth'))"
   ]
  },
  {
   "cell_type": "code",
   "execution_count": null,
   "id": "d210b7b6",
   "metadata": {},
   "outputs": [],
   "source": [
    "env_info = env.reset(train_mode=False)[brain_name]\n",
    "states = env_info.vector_observations                  # get the current state (for each agent)\n",
    "scores = np.zeros(num_agents)                          # initialize the score (for each agent)\n",
    "agents.reset()\n",
    "while True:   \n",
    "    actions = agents.act(states,add_noise=False)       # select an action (for each agent)\n",
    "    env_info = env.step(actions)[brain_name]           # send all actions to tne environment\n",
    "    next_states = env_info.vector_observations         # get next state (for each agent)\n",
    "    rewards = env_info.rewards                         # get reward (for each agent)\n",
    "    dones = env_info.local_done                        # see if episode finished\n",
    "    scores += rewards                                  # update the score (for each agent)\n",
    "\n",
    "    if np.any(dones):                                  # exit loop if episode finished\n",
    "        break\n",
    "\n",
    "    states = next_states                               # roll over states to next time step"
   ]
  },
  {
   "cell_type": "markdown",
   "id": "15396ec9",
   "metadata": {},
   "source": [
    "#### Plotting the graph"
   ]
  },
  {
   "cell_type": "code",
   "execution_count": null,
   "id": "18321933",
   "metadata": {
    "scrolled": true
   },
   "outputs": [],
   "source": [
    "plot_score_graph(scores_list,avg_scores)"
   ]
  },
  {
   "cell_type": "code",
   "execution_count": null,
   "id": "d22a9d92",
   "metadata": {},
   "outputs": [],
   "source": [
    "env.close()"
   ]
  }
 ],
 "metadata": {
  "kernelspec": {
   "display_name": "drlnd",
   "language": "python",
   "name": "drlnd"
  },
  "language_info": {
   "codemirror_mode": {
    "name": "ipython",
    "version": 3
   },
   "file_extension": ".py",
   "mimetype": "text/x-python",
   "name": "python",
   "nbconvert_exporter": "python",
   "pygments_lexer": "ipython3",
   "version": "3.6.13"
  }
 },
 "nbformat": 4,
 "nbformat_minor": 5
}
